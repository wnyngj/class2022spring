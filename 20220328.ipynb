{
  "nbformat": 4,
  "nbformat_minor": 0,
  "metadata": {
    "colab": {
      "name": "requests_gradio.ipynb",
      "provenance": [],
      "include_colab_link": true
    },
    "kernelspec": {
      "name": "python3",
      "display_name": "Python 3"
    },
    "language_info": {
      "name": "python"
    }
  },
  "cells": [
    {
      "cell_type": "markdown",
      "metadata": {
        "id": "view-in-github",
        "colab_type": "text"
      },
      "source": [
        "<a href=\"https://colab.research.google.com/github/wnyngj/class2022spring/blob/main/20220328.ipynb\" target=\"_parent\"><img src=\"https://colab.research.google.com/assets/colab-badge.svg\" alt=\"Open In Colab\"/></a>"
      ]
    },
    {
      "cell_type": "code",
      "source": [
        "!pip install gradio\n",
        "import gradio as gr\n",
        "import pandas as pd\n",
        "import requests"
      ],
      "metadata": {
        "id": "8eZHGJhmqd9a"
      },
      "execution_count": null,
      "outputs": []
    },
    {
      "cell_type": "code",
      "source": [
        "URL = ('http://apis.data.go.kr/1262000/TravelAlarmService2/getTravelAlarmList2?serviceKey=z3krhsqAotFZ8tsydbUWqmfj40%2Bosruz%2FcWO1hBd6%2FvSN6bPmHEllXE4cnfQkJV9BbGx9y42U6YQ%2Fe7ARdTCXA%3D%3D&pageNo=1&numOfRows=10&cond[country_nm::EQ]=가나&cond[country_iso_alp2::EQ]=GH')\n",
        "response = requests.get(URL)"
      ],
      "metadata": {
        "id": "lHHEwqpyJF7r"
      },
      "execution_count": 3,
      "outputs": []
    },
    {
      "cell_type": "code",
      "source": [
        "print(response)"
      ],
      "metadata": {
        "colab": {
          "base_uri": "https://localhost:8080/"
        },
        "id": "YZrxGrZj6RQP",
        "outputId": "e1c71c16-a2a6-455a-d621-9439cbd1315d"
      },
      "execution_count": 4,
      "outputs": [
        {
          "output_type": "stream",
          "name": "stdout",
          "text": [
            "<Response [200]>\n"
          ]
        }
      ]
    },
    {
      "cell_type": "code",
      "source": [
        "r = response.json()   \n",
        "r"
      ],
      "metadata": {
        "id": "JcLKwg0foR9p",
        "colab": {
          "base_uri": "https://localhost:8080/"
        },
        "outputId": "1fc25ec1-7ed1-44bb-b2f2-ac7374a6659f"
      },
      "execution_count": 6,
      "outputs": [
        {
          "output_type": "execute_result",
          "data": {
            "text/plain": [
              "{'currentCount': 1,\n",
              " 'data': [{'alarm_lvl': None,\n",
              "   'continent_cd': '50',\n",
              "   'continent_eng_nm': 'Africa',\n",
              "   'continent_nm': '아프리카',\n",
              "   'country_eng_nm': 'Ghana',\n",
              "   'country_iso_alp2': 'GH',\n",
              "   'country_nm': '가나',\n",
              "   'dang_map_download_url': 'https://www.0404.go.kr/imgsrc.mofa?atch_file_id=FILE_000000000010504&file_sn=3',\n",
              "   'flag_download_url': 'https://opendata.mofa.go.kr:8444/fileDownload/images/country_images/flags/15/20220318_161935687.gif',\n",
              "   'map_download_url': 'https://opendata.mofa.go.kr:8444/fileDownload/images/country_images/maps/15/20220318_161935742.png',\n",
              "   'region_ty': None,\n",
              "   'remark': None,\n",
              "   'written_dt': '2020-10-22'}],\n",
              " 'numOfRows': 10,\n",
              " 'pageNo': 1,\n",
              " 'resultCode': 0,\n",
              " 'resultMsg': '정상',\n",
              " 'totalCount': 197}"
            ]
          },
          "metadata": {},
          "execution_count": 6
        }
      ]
    },
    {
      "cell_type": "code",
      "source": [
        "items = r['data']\n",
        "\n",
        "#정보들 list로 뽑기\n",
        "alarm_lvl = [item['alarm_lvl'] for item in items]\n",
        "continent_nm = [item['continent_nm'] for item in items] \n",
        "country_nm = [item['country_nm'] for item in items]\n",
        "country_iso_alp2 = [item['country_iso_alp2'] for item in items]\n",
        "dang_map_download_url = [item['dang_map_download_url'] for item in items]\n",
        "flag_download_url = [item['flag_download_url'] for item in items]\n",
        "map_download_url = [item['map_download_url'] for item in items]\n",
        "\n",
        "#pandas에서 column별로 series 만들기\n",
        "pd_alarm_lvl = pd.Series(alarm_lvl)  \n",
        "pd_continent_nm = pd.Series(continent_nm)   \n",
        "pd_country_nm = pd.Series(country_nm)\n",
        "pd_country_iso_alp2 = pd.Series(country_iso_alp2)\n",
        "dang_map_download_url = pd.Series(dang_map_download_url)\n",
        "flag_download_url = pd.Series(flag_download_url)\n",
        "map_download_url = pd.Series(map_download_url)\n",
        "\n",
        "#엑셀파일 형태로 df만들기, response 받아오기\n",
        "df = pd.DataFrame({ 'alarm_lvl': alarm_lvl, 'continent_nm': continent_nm, 'country_nm': country_nm, 'country_iso_alp2': country_iso_alp2, 'dang_map_download_url': dang_map_download_url, 'flag_download_url': flag_download_url, 'map_download_url':map_download_url })"
      ],
      "metadata": {
        "id": "W8lA0-IzE55W"
      },
      "execution_count": 17,
      "outputs": []
    },
    {
      "cell_type": "markdown",
      "source": [
        "gradio로 웹데모를 만들려면 function의 형태로 있어야함"
      ],
      "metadata": {
        "id": "GDlxxbKSCErp"
      }
    },
    {
      "cell_type": "code",
      "source": [
        "def test(country_nm):\n",
        "  URL = ('http://apis.data.go.kr/1262000/TravelAlarmService2/'\n",
        "      'getTravelAlarmList2?'\n",
        "      'serviceKey=z3krhsqAotFZ8tsydbUWqmfj40%2Bosruz%2FcWO1hBd6%2FvSN6bPmHEllXE4cnfQkJV9BbGx9y42U6YQ%2Fe7ARdTCXA%3D%3D'\n",
        "      '&pageNo=1'\n",
        "      '&numOfRows=10'\n",
        "      '&cond[country_nm::EQ]='+country_nm+\n",
        "      '&cond[country_iso_alp2::EQ]='+country_iso_alp2)\n",
        "  \n",
        "  response = requests.get(URL)\n",
        "  r = response.json()\n",
        "  items = r['data']\n",
        "\n",
        "    #정보들 list로 뽑기\n",
        "  alarm_lvl = [item['alarm_lvl'] for item in items]\n",
        "  continent_nm = [item['continent_nm'] for item in items] \n",
        "  country_nm = [item['country_nm'] for item in items]\n",
        "  country_iso_alp2 = [item['country_iso_alp2'] for item in items]\n",
        "  dang_map_download_url = [item['dang_map_download_url'] for item in items]\n",
        "  flag_download_url = [item['flag_download_url'] for item in items]\n",
        "  map_download_url = [item['map_download_url'] for item in items]\n",
        "\n",
        "#pandas에서 column별로 series 만들기\n",
        "  pd_alarm_lvl = pd.Series(alarm_lvl)  \n",
        "  pd_continent_nm = pd.Series(continent_nm)   \n",
        "  pd_country_nm = pd.Series(country_nm)\n",
        "  pd_country_iso_alp2 = pd.Series(country_iso_alp2)\n",
        "  dang_map_download_url = pd.Series(dang_map_download_url)\n",
        "  flag_download_url = pd.Series(flag_download_url)\n",
        "  map_download_url = pd.Series(map_download_url)\n",
        "\n",
        "#엑셀파일 형태로 df만들기, response 받아오기\n",
        "  df = pd.DataFrame({ 'alarm_lvl': alarm_lvl, 'continent_nm': continent_nm, 'country_nm': country_nm, 'country_iso_alp2': country_iso_alp2, 'dang_map_download_url': dang_map_download_url, 'flag_download_url': flag_download_url, 'map_download_url':map_download_url })\n",
        "  return df"
      ],
      "metadata": {
        "id": "xa2Gb_qsm_G5"
      },
      "execution_count": 12,
      "outputs": []
    },
    {
      "cell_type": "code",
      "source": [
        "iface = gr.Interface(test, gr.inputs.Dropdown(['아프리카', '미주', '유럽', '아주', '중동']), outputs=['dataframe'])\n",
        "#입력에 dropdown형태로 넣고 출력에 dataframe형태로\n",
        "iface.launch(debug=True)"
      ],
      "metadata": {
        "id": "kxORJVPOnDSP",
        "outputId": "41216e63-7c62-437c-f212-4e7e15364a5d",
        "colab": {
          "base_uri": "https://localhost:8080/"
        }
      },
      "execution_count": 13,
      "outputs": [
        {
          "output_type": "stream",
          "name": "stdout",
          "text": [
            "Keyboard interruption in main thread... closing server.\n"
          ]
        },
        {
          "output_type": "execute_result",
          "data": {
            "text/plain": [
              "(<fastapi.applications.FastAPI at 0x7f231cc78450>,\n",
              " 'http://127.0.0.1:7860/',\n",
              " 'https://41066.gradio.app')"
            ]
          },
          "metadata": {},
          "execution_count": 13
        }
      ]
    }
  ]
}