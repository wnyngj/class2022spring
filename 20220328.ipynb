{
  "nbformat": 4,
  "nbformat_minor": 0,
  "metadata": {
    "colab": {
      "name": "requests_gradio.ipynb",
      "provenance": [],
      "include_colab_link": true
    },
    "kernelspec": {
      "name": "python3",
      "display_name": "Python 3"
    },
    "language_info": {
      "name": "python"
    }
  },
  "cells": [
    {
      "cell_type": "markdown",
      "metadata": {
        "id": "view-in-github",
        "colab_type": "text"
      },
      "source": [
        "<a href=\"https://colab.research.google.com/github/wnyngj/class2022spring/blob/main/20220328.ipynb\" target=\"_parent\"><img src=\"https://colab.research.google.com/assets/colab-badge.svg\" alt=\"Open In Colab\"/></a>"
      ]
    },
    {
      "cell_type": "code",
      "source": [
        "!pip install gradio\n",
        "import gradio as gr\n",
        "import pandas as pd\n",
        "import requests"
      ],
      "metadata": {
        "id": "8eZHGJhmqd9a"
      },
      "execution_count": null,
      "outputs": []
    },
    {
      "cell_type": "code",
      "source": [
        "URL = ('http://apis.data.go.kr/1262000/TravelAlarmService2/getTravelAlarmList2?serviceKey=z3krhsqAotFZ8tsydbUWqmfj40%2Bosruz%2FcWO1hBd6%2FvSN6bPmHEllXE4cnfQkJV9BbGx9y42U6YQ%2Fe7ARdTCXA%3D%3D&pageNo=1&numOfRows=4000')\n",
        "response = requests.get(URL)"
      ],
      "metadata": {
        "id": "lHHEwqpyJF7r"
      },
      "execution_count": 36,
      "outputs": []
    },
    {
      "cell_type": "code",
      "source": [
        "print(response)"
      ],
      "metadata": {
        "colab": {
          "base_uri": "https://localhost:8080/"
        },
        "id": "YZrxGrZj6RQP",
        "outputId": "a96b2a96-a79d-4ad5-8ef2-7d57c7fba4a8"
      },
      "execution_count": 37,
      "outputs": [
        {
          "output_type": "stream",
          "name": "stdout",
          "text": [
            "<Response [200]>\n"
          ]
        }
      ]
    },
    {
      "cell_type": "code",
      "source": [
        "r = response.json()   \n",
        "r"
      ],
      "metadata": {
        "id": "JcLKwg0foR9p"
      },
      "execution_count": null,
      "outputs": []
    },
    {
      "cell_type": "code",
      "source": [
        "items = r['data']\n",
        "\n",
        "alarm_lvl = [item['alarm_lvl'] for item in items]\n",
        "continent_nm = [item['continent_nm'] for item in items] \n",
        "country_nm = [item['country_nm'] for item in items]\n",
        "country_iso_alp2 = [item['country_iso_alp2'] for item in items]\n",
        "dang_map_download_url = [item['dang_map_download_url'] for item in items]\n",
        "\n",
        "pd_alarm_lvl = pd.Series(alarm_lvl)  \n",
        "pd_continent_nm = pd.Series(continent_nm)   \n",
        "pd_country_nm = pd.Series(country_nm)\n",
        "pd_country_iso_alp2 = pd.Series(country_iso_alp2)\n",
        "dang_map_download_url = pd.Series(dang_map_download_url)\n",
        "\n",
        "\n",
        "df = pd.DataFrame({ 'alarm_lvl': alarm_lvl, 'continent_nm': continent_nm, 'country_nm': country_nm, 'country_iso_alp2': country_iso_alp2, 'dang_map_download_url': dang_map_download_url})"
      ],
      "metadata": {
        "id": "W8lA0-IzE55W"
      },
      "execution_count": 39,
      "outputs": []
    },
    {
      "cell_type": "code",
      "source": [
        "def test(continent_nm):\n",
        "  URL = ('http://apis.data.go.kr/1262000/TravelAlarmService2/'\n",
        "      'getTravelAlarmList2?'\n",
        "      'serviceKey=z3krhsqAotFZ8tsydbUWqmfj40%2Bosruz%2FcWO1hBd6%2FvSN6bPmHEllXE4cnfQkJV9BbGx9y42U6YQ%2Fe7ARdTCXA%3D%3D'\n",
        "      '&pageNo=1'\n",
        "      '&numOfRows=4000'\n",
        "      '&cond[continent_nm::EQ]='+continent_nm)\n",
        "  \n",
        "  response = requests.get(URL)\n",
        "  r = response.json()\n",
        "  items = r['data']\n",
        "\n",
        "  alarm_lvl = [item['alarm_lvl'] for item in items]\n",
        "  continent_nm = [item['continent_nm'] for item in items] \n",
        "  country_nm = [item['country_nm'] for item in items]\n",
        "  country_iso_alp2 = [item['country_iso_alp2'] for item in items]\n",
        "  dang_map_download_url = [item['dang_map_download_url'] for item in items]\n",
        " \n",
        "  pd_alarm_lvl = pd.Series(alarm_lvl)  \n",
        "  pd_continent_nm = pd.Series(continent_nm)   \n",
        "  pd_country_nm = pd.Series(country_nm)\n",
        "  pd_country_iso_alp2 = pd.Series(country_iso_alp2)\n",
        "  dang_map_download_url = pd.Series(dang_map_download_url)\n",
        " \n",
        "  df = pd.DataFrame({ 'alarm_lvl': alarm_lvl, 'continent_nm': continent_nm, 'country_nm': country_nm, 'country_iso_alp2': country_iso_alp2, 'dang_map_download_url': dang_map_download_url})\n",
        "  return df"
      ],
      "metadata": {
        "id": "xa2Gb_qsm_G5"
      },
      "execution_count": 40,
      "outputs": []
    },
    {
      "cell_type": "code",
      "source": [
        "iface = gr.Interface(test, gr.inputs.Dropdown(['아프리카', '미주', '유럽', '아주', '중동']), outputs=['dataframe'])\n",
        "iface.launch(debug=True)"
      ],
      "metadata": {
        "id": "kxORJVPOnDSP"
      },
      "execution_count": null,
      "outputs": []
    }
  ]
}