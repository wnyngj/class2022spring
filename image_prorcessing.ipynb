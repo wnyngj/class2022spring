{
  "nbformat": 4,
  "nbformat_minor": 0,
  "metadata": {
    "colab": {
      "name": "image_prorcessing.ipynb",
      "provenance": [],
      "include_colab_link": true
    },
    "kernelspec": {
      "name": "python3",
      "display_name": "Python 3"
    },
    "language_info": {
      "name": "python"
    }
  },
  "cells": [
    {
      "cell_type": "markdown",
      "metadata": {
        "id": "view-in-github",
        "colab_type": "text"
      },
      "source": [
        "<a href=\"https://colab.research.google.com/github/wnyngj/class2022spring/blob/main/image_prorcessing.ipynb\" target=\"_parent\"><img src=\"https://colab.research.google.com/assets/colab-badge.svg\" alt=\"Open In Colab\"/></a>"
      ]
    },
    {
      "cell_type": "markdown",
      "source": [
        "# Image processing\n",
        "https://www.w3schools.com/html/html_colors_rgb.asp"
      ],
      "metadata": {
        "id": "o7Kt9mdsl64L"
      }
    },
    {
      "cell_type": "markdown",
      "source": [
        "rgb(255,255,255)\n",
        "\n",
        "gray(n,n,n)\n",
        "RGBA(r,g,b,알파-투명도0~1)"
      ],
      "metadata": {
        "id": "Ql2txWpw56xS"
      }
    },
    {
      "cell_type": "code",
      "source": [
        "import cv2 # openCV (computer vision) package 의 라이브러리인 cv2\n",
        "#cv2.imshow()는 crash가 자주 나서 google에서 만든 대체재 쓸 것임\n",
        "from google.colab.patches import cv2_imshow # substitution for cv2.imshow\n",
        "import matplotlib.pylab as plt"
      ],
      "metadata": {
        "id": "73mp63gvtmDQ"
      },
      "execution_count": 1,
      "outputs": []
    },
    {
      "cell_type": "markdown",
      "source": [
        "OpenCV imread, imwrite and imshow indeed all work with the BGR order, so there is no need to change the order when you read an image with cv2.imread and then want to show it with cv2.imshow. While BGR is used consistently throughout OpenCV, most other image processing libraries use the RGB ordering. If you want to use matplotlib's imshow but read the image with OpenCV, you would need to convert from BGR to RGB."
      ],
      "metadata": {
        "id": "HGJBDsHvmkIf"
      }
    },
    {
      "cell_type": "markdown",
      "source": [
        "## \bdownload/save an image from Urls"
      ],
      "metadata": {
        "id": "kmo_iDcgtPoq"
      }
    },
    {
      "cell_type": "markdown",
      "source": [
        "os.system(\"curl^\"url주소\"^>^파일이름.jpg\")"
      ],
      "metadata": {
        "id": "vL__Pf2L77_7"
      }
    },
    {
      "cell_type": "code",
      "source": [
        "import os\n",
        "url = \"https://raw.githubusercontent.com/hsnam95/class2022Spring/main/tiger.jpg\"\n",
        "os.system(\"curl \" + url + \" > test.jpg\")"
      ],
      "metadata": {
        "id": "2tNf0hFNQayc",
        "outputId": "787155d5-532c-4292-9812-380c472af8d7",
        "colab": {
          "base_uri": "https://localhost:8080/"
        }
      },
      "execution_count": 3,
      "outputs": [
        {
          "output_type": "execute_result",
          "data": {
            "text/plain": [
              "0"
            ]
          },
          "metadata": {},
          "execution_count": 3
        }
      ]
    },
    {
      "cell_type": "markdown",
      "source": [
        "## display image"
      ],
      "metadata": {
        "id": "lAm9_mj1pvBU"
      }
    },
    {
      "cell_type": "code",
      "source": [
        "image_bgr = cv2.imread('test.jpg')    #사진의 rgb 숫자들의 행렬\n",
        "cv2_imshow(image_bgr) #숫자 행렬을 이미지로 display하라"
      ],
      "metadata": {
        "id": "EnYTzgoaREFk"
      },
      "execution_count": null,
      "outputs": []
    },
    {
      "cell_type": "markdown",
      "source": [
        "## display B, G, R channel"
      ],
      "metadata": {
        "id": "vIGysdNa1fuB"
      }
    },
    {
      "cell_type": "code",
      "source": [
        "image_bgr\n",
        "#숫자의 의미는?"
      ],
      "metadata": {
        "id": "5TApnEKHyNV1",
        "outputId": "c78b37c5-c7bc-4e9e-b167-08c51691c629",
        "colab": {
          "base_uri": "https://localhost:8080/"
        }
      },
      "execution_count": 9,
      "outputs": [
        {
          "output_type": "execute_result",
          "data": {
            "text/plain": [
              "array([[[109, 123, 141],\n",
              "        [108, 122, 140],\n",
              "        [105, 120, 136],\n",
              "        ...,\n",
              "        [139, 133, 152],\n",
              "        [139, 133, 152],\n",
              "        [139, 133, 152]],\n",
              "\n",
              "       [[109, 123, 141],\n",
              "        [108, 122, 140],\n",
              "        [106, 121, 137],\n",
              "        ...,\n",
              "        [139, 133, 152],\n",
              "        [139, 133, 152],\n",
              "        [139, 133, 152]],\n",
              "\n",
              "       [[110, 124, 142],\n",
              "        [109, 123, 141],\n",
              "        [106, 121, 137],\n",
              "        ...,\n",
              "        [140, 134, 153],\n",
              "        [139, 133, 152],\n",
              "        [139, 133, 152]],\n",
              "\n",
              "       ...,\n",
              "\n",
              "       [[ 71,  93, 129],\n",
              "        [ 73,  92, 129],\n",
              "        [ 74,  94, 129],\n",
              "        ...,\n",
              "        [147, 167, 192],\n",
              "        [147, 167, 192],\n",
              "        [147, 167, 192]],\n",
              "\n",
              "       [[ 72,  94, 130],\n",
              "        [ 73,  92, 129],\n",
              "        [ 73,  93, 128],\n",
              "        ...,\n",
              "        [147, 167, 192],\n",
              "        [147, 167, 192],\n",
              "        [147, 167, 192]],\n",
              "\n",
              "       [[ 72,  94, 130],\n",
              "        [ 74,  93, 130],\n",
              "        [ 74,  94, 129],\n",
              "        ...,\n",
              "        [147, 167, 192],\n",
              "        [147, 167, 192],\n",
              "        [147, 167, 192]]], dtype=uint8)"
            ]
          },
          "metadata": {},
          "execution_count": 9
        }
      ]
    },
    {
      "cell_type": "code",
      "source": [
        "print(type(image_bgr)); print(image_bgr.shape)\n",
        "#넘피엔디어레이\n",
        "#세로 627,\n",
        "#image bgr에 담겨있는 숫자의 총 개수는 ? 627*1200*3\n",
        "#red는 몇개의 숫자가 있나?"
      ],
      "metadata": {
        "id": "aRHotP0CyZJQ",
        "outputId": "da2753dc-d990-4ce5-8d9b-ae05684a86df",
        "colab": {
          "base_uri": "https://localhost:8080/"
        }
      },
      "execution_count": 8,
      "outputs": [
        {
          "output_type": "stream",
          "name": "stdout",
          "text": [
            "<class 'numpy.ndarray'>\n",
            "(627, 1200, 3)\n"
          ]
        }
      ]
    },
    {
      "cell_type": "code",
      "source": [
        "image_b = image_bgr.copy()\n",
        "#ndarray에선\n",
        "#image_b = image.bgr하면\n",
        "#둘다 바뀌어서 copy 한다음에 하기\n",
        "image_b[:,:,[1,2]] = 0\n",
        "#g와 r을 0으로 바꿈, b만 있는 것"
      ],
      "metadata": {
        "id": "VTv5DIpVyjSo"
      },
      "execution_count": 11,
      "outputs": []
    },
    {
      "cell_type": "code",
      "source": [
        "cv2_imshow(image_b)"
      ],
      "metadata": {
        "id": "L3negZY6_WZK"
      },
      "execution_count": null,
      "outputs": []
    },
    {
      "cell_type": "code",
      "source": [
        "image_g = image_bgr.copy()\n",
        "image_g[:,:,[0,2]] = 0\n",
        "cv2_imshow(image_g)\n",
        "#br을 0,g만 남음"
      ],
      "metadata": {
        "id": "1AuJtDQy0RqZ"
      },
      "execution_count": null,
      "outputs": []
    },
    {
      "cell_type": "code",
      "source": [
        "image_r = image_bgr.copy()\n",
        "image_r[:,:,[0,1]] = 0\n",
        "cv2_imshow(image_r)\n",
        "#bg를 0, r만 남음"
      ],
      "metadata": {
        "id": "0RYN4ocz0SbD"
      },
      "execution_count": null,
      "outputs": []
    },
    {
      "cell_type": "code",
      "source": [
        "image_inverse = 255 - image_bgr   #반전\n",
        "cv2_imshow(image_inverse)"
      ],
      "metadata": {
        "id": "hdjjO-nr1py0"
      },
      "execution_count": null,
      "outputs": []
    },
    {
      "cell_type": "markdown",
      "source": [
        "##histograms"
      ],
      "metadata": {
        "id": "8ctFtvBotyzh"
      }
    },
    {
      "cell_type": "code",
      "source": [
        "# Display the histogram of R, G, B channel\n",
        "color = ['b','g','r']\n",
        "for i in range(len(color)):\n",
        "    histr = cv2.calcHist([image_bgr],[i],None,[255],[0,255]) # ([image], [nChannel], mask, [histSize], [range])\n",
        "    plt.plot(histr, color = color[i])\n",
        "    plt.xlim([0,255])"
      ],
      "metadata": {
        "id": "ccZxy6yjbRbs"
      },
      "execution_count": null,
      "outputs": []
    },
    {
      "cell_type": "code",
      "source": [
        "# Display the histogram of all the pixels in the color image\n",
        "plt.hist(image_bgr.ravel(), bins = 256, range = [0,256]) \n",
        "plt.show()\n",
        "#오른쪽으로 갈수록 수치가 높아지면 이 사진이 밝겠구나 예측할 수 있음"
      ],
      "metadata": {
        "id": "lFoQ_iOll1SV"
      },
      "execution_count": null,
      "outputs": []
    },
    {
      "cell_type": "markdown",
      "source": [
        "## gray transformation"
      ],
      "metadata": {
        "id": "n80B5Qs9pY1Z"
      }
    },
    {
      "cell_type": "code",
      "source": [
        "image_gray = cv2.cvtColor(image_bgr, cv2.COLOR_BGR2GRAY)\n",
        "cv2_imshow(image_gray)\n",
        "#cv2_imshow(255-image_gray) 반전되는 흑백그림"
      ],
      "metadata": {
        "id": "DJibxSE4lLYA"
      },
      "execution_count": null,
      "outputs": []
    }
  ]
}