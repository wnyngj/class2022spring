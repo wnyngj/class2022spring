{
  "nbformat": 4,
  "nbformat_minor": 0,
  "metadata": {
    "colab": {
      "name": "tensorflow_hub.ipynb",
      "provenance": [],
      "include_colab_link": true
    },
    "kernelspec": {
      "name": "python3",
      "display_name": "Python 3"
    },
    "language_info": {
      "name": "python"
    }
  },
  "cells": [
    {
      "cell_type": "markdown",
      "metadata": {
        "id": "view-in-github",
        "colab_type": "text"
      },
      "source": [
        "<a href=\"https://colab.research.google.com/github/wnyngj/class2022spring/blob/main/tensorflow_hub0530.ipynb\" target=\"_parent\"><img src=\"https://colab.research.google.com/assets/colab-badge.svg\" alt=\"Open In Colab\"/></a>"
      ]
    },
    {
      "cell_type": "markdown",
      "source": [
        "### [Tensorflow Hub](https://www.tensorflow.org/hub)"
      ],
      "metadata": {
        "id": "8dnF4rJPatAo"
      }
    },
    {
      "cell_type": "markdown",
      "source": [
        "### image classification (e.g. [inception_v3](https://tfhub.dev/google/imagenet/inception_v3/classification/5))"
      ],
      "metadata": {
        "id": "soPd171Hbbma"
      }
    },
    {
      "cell_type": "code",
      "source": [
        "import tensorflow.compat.v2 as tf\n",
        "import tensorflow_hub as hub"
      ],
      "metadata": {
        "id": "VIJXaAwQ9lXX"
      },
      "execution_count": 1,
      "outputs": []
    },
    {
      "cell_type": "code",
      "source": [
        "model = hub.KerasLayer(\"https://tfhub.dev/google/imagenet/inception_v3/classification/5\")\n",
        "#필요한 라이브러리 가져와서\n",
        "#model 변수에 받기"
      ],
      "metadata": {
        "id": "vmzDkBCZZMF-"
      },
      "execution_count": 2,
      "outputs": []
    },
    {
      "cell_type": "code",
      "source": [
        "from PIL import Image\n",
        "import requests\n",
        "url = 'http://images.cocodataset.org/val2017/000000039769.jpg'\n",
        "#고양이 사진 웹사이트로부터 받아\n",
        "image = Image.open(requests.get(url, stream=True).raw)"
      ],
      "metadata": {
        "id": "f3ztc_fNX79F"
      },
      "execution_count": 6,
      "outputs": []
    },
    {
      "cell_type": "code",
      "source": [
        "#numpy형태로 이미지를 array화 함 - 3차원(480, 640, 3)=480,640 행렬이 3장 있다(rgb)\n",
        "import numpy as np\n",
        "image = np.array(image)"
      ],
      "metadata": {
        "id": "Bqm9LV1rC4eK"
      },
      "execution_count": 7,
      "outputs": []
    },
    {
      "cell_type": "code",
      "source": [
        "image[:,:,0]\n",
        "#rgb 강도: 0~255"
      ],
      "metadata": {
        "id": "9nys0s1PN9Uc",
        "outputId": "e0bd0a55-3287-4e06-b357-38072ba82d0d",
        "colab": {
          "base_uri": "https://localhost:8080/"
        }
      },
      "execution_count": 8,
      "outputs": [
        {
          "output_type": "execute_result",
          "data": {
            "text/plain": [
              "array([[140, 144, 146, ...,  94, 107, 102],\n",
              "       [138, 142, 139, ..., 103, 115,  96],\n",
              "       [135, 150, 142, ..., 103, 108,  93],\n",
              "       ...,\n",
              "       [237, 225, 236, ..., 171, 181, 147],\n",
              "       [230, 226, 238, ..., 114, 103,  89],\n",
              "       [238, 246, 238, ...,  74,  74,  73]], dtype=uint8)"
            ]
          },
          "metadata": {},
          "execution_count": 8
        }
      ]
    },
    {
      "cell_type": "code",
      "source": [
        "#4차원의 array로 (이 model이 4차원 array만 받기 때문, 그림 하나만 하면 3차원 하면 되는데)\n",
        "#-4차원 (1,480,640,3)\n",
        "#if 그림 3장있으면(3,480,640,3)이 되겠지\n",
        "\n",
        "# reshape into shape [batch_size, height, width, num_channels]\n",
        "#사진 2장있을 때: \n",
        "#image = tf.reshape(image, [0,1]???, image.shape[0], image.shape[1], image.shape[2]])\n",
        "image = tf.reshape(image, [1, image.shape[0], image.shape[1], image.shape[2]])\n",
        "\n",
        "# Use `convert_image_dtype` to convert to floats in the [0,1] range.\n",
        "#range를 0~1사이로 바꿔줌 (어두우면 0 밝으면 1)\n",
        "image = tf.image.convert_image_dtype(image, tf.float32)"
      ],
      "metadata": {
        "id": "xuOaRrfEN6nU"
      },
      "execution_count": 9,
      "outputs": []
    },
    {
      "cell_type": "code",
      "source": [
        "image[0,:,:,0]\n",
        "#이제 img 벡터 = 4차원array, 0~1"
      ],
      "metadata": {
        "id": "MpeEeyLtPEIE"
      },
      "execution_count": null,
      "outputs": []
    },
    {
      "cell_type": "code",
      "source": [
        "#모델 행렬에 image벡터 넣어서 logits 출력함\n",
        "logits = model(image)\n",
        "\n",
        "np.argmax(logits)\n",
        "#np.argmax: 1000개의 logits값들 중 몇 번째가 가장 높은 값인가?"
      ],
      "metadata": {
        "id": "CRUy_pik9m3o",
        "outputId": "d482bb8b-6c22-4d0b-b55c-47df3020479a",
        "colab": {
          "base_uri": "https://localhost:8080/"
        }
      },
      "execution_count": 11,
      "outputs": [
        {
          "output_type": "execute_result",
          "data": {
            "text/plain": [
              "282"
            ]
          },
          "metadata": {},
          "execution_count": 11
        }
      ]
    },
    {
      "cell_type": "markdown",
      "source": [
        "282가 의미하는 것은?\n",
        "\n",
        "인셉셥v3 모델이 훈련한 과정\n",
        "그림 - 강아지\n",
        "그림 -꽃\n",
        "..\n",
        "\n",
        "이label의 개수는 1000개\n",
        "여기서 282번째가 가장 확률이 높다\n",
        "tabby!"
      ],
      "metadata": {
        "id": "Z1w2RHu1Ph9G"
      }
    },
    {
      "cell_type": "markdown",
      "source": [
        "> https://storage.googleapis.com/download.tensorflow.org/data/ImageNetLabels.txt"
      ],
      "metadata": {
        "id": "p7zLDQqWaGii"
      }
    }
  ]
}