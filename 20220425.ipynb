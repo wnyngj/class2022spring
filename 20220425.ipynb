{
  "nbformat": 4,
  "nbformat_minor": 0,
  "metadata": {
    "colab": {
      "name": "Untitled3.ipynb",
      "provenance": [],
      "authorship_tag": "ABX9TyMiugL1pibyB9H+Rn4/qPfl",
      "include_colab_link": true
    },
    "kernelspec": {
      "name": "python3",
      "display_name": "Python 3"
    },
    "language_info": {
      "name": "python"
    }
  },
  "cells": [
    {
      "cell_type": "markdown",
      "metadata": {
        "id": "view-in-github",
        "colab_type": "text"
      },
      "source": [
        "<a href=\"https://colab.research.google.com/github/wnyngj/class2022spring/blob/main/20220425.ipynb\" target=\"_parent\"><img src=\"https://colab.research.google.com/assets/colab-badge.svg\" alt=\"Open In Colab\"/></a>"
      ]
    },
    {
      "cell_type": "code",
      "execution_count": null,
      "metadata": {
        "id": "fHeYsKkS0ZZD"
      },
      "outputs": [],
      "source": [
        "*Auto correlation (자기상관)\n",
        "-시계열 데이터에서 / 현재의 상태가 과거와 미래의 상태 사이에서 갖는 상관성\n",
        "-현재 자료가 과거자료로부터 얼마나 영향을 받는가의 \"기억\", 분석모형의 주요지표로 활용된다.\n",
        "-동일한 시간구간으로 나누어진 벡터로 구성된 시계열 자료에서, 현재의 개체수가 이전의 개체수와 어떻게 연관되어 있는가를 나타낸 것\n",
        "\n",
        "*RMS -root mean square(실효출력, 정격출력)\n",
        "-각 변량의 제곱을 평균한 양의 제곱근. 제곱 평균 제곱근\n",
        "-평균값이 아니고 참값을 중심으로 계산되는 값\n",
        "-항상 균일하게 증폭이 되는 출력을 크기로 표시한 것\n",
        "-앰프에서 정격 출력을 정확하게 언급할 때 쓰임\n",
        "-변수들의 분포가 음과 양의 값을 골고루 가질 때 그 크기의 정도를 알아보고자 할 때 유용한 방법이다.\n",
        "-참값을 중심으로 통계량이 얼마나 변화하는가를 의미한다.이 경우는 표준편차와 달리 참값을 기준으로 하므로 정밀도의 척도는 될 수 없지만 정확도의 척도는 될 수 있다. 작은 원과 큰 원의 경우, 작은 원이 큰 원보다 표준편차는 작지만 참값에서 벗어난 정도에 따라 RMS 값은 더 크게 나타날 수 있다.\n"
      ]
    }
  ]
}