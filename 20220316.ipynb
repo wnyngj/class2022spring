{
  "nbformat": 4,
  "nbformat_minor": 0,
  "metadata": {
    "colab": {
      "name": "function.ipynb",
      "provenance": [],
      "include_colab_link": true
    },
    "kernelspec": {
      "name": "python3",
      "display_name": "Python 3"
    }
  },
  "cells": [
    {
      "cell_type": "markdown",
      "metadata": {
        "id": "view-in-github",
        "colab_type": "text"
      },
      "source": [
        "<a href=\"https://colab.research.google.com/github/wnyngj/class2022spring/blob/main/20220316.ipynb\" target=\"_parent\"><img src=\"https://colab.research.google.com/assets/colab-badge.svg\" alt=\"Open In Colab\"/></a>"
      ]
    },
    {
      "cell_type": "markdown",
      "source": [
        "# 함수만들기"
      ],
      "metadata": {
        "id": "22rOfuIccmYI"
      }
    },
    {
      "cell_type": "code",
      "metadata": {
        "id": "hpc_mhgAye2S",
        "colab": {
          "base_uri": "https://localhost:8080/"
        },
        "outputId": "0a68f6b6-bbc4-40ff-c7cd-274c05fee963"
      },
      "source": [
        "#def 함수명(입력변수1,입력변수2):\n",
        "  #return \n",
        "\n",
        "def add(a,b):\n",
        "  return a+b\n",
        "\n",
        "def add(a,b):\n",
        "  c=a+b\n",
        "  return c\n",
        "\n",
        "c = add(1,2); print(c)"
      ],
      "execution_count": 4,
      "outputs": [
        {
          "output_type": "stream",
          "name": "stdout",
          "text": [
            "3\n"
          ]
        }
      ]
    },
    {
      "cell_type": "markdown",
      "source": [
        "# 다양한 종류의 패키지"
      ],
      "metadata": {
        "id": "n1mc7L06e-cg"
      }
    },
    {
      "cell_type": "code",
      "source": [
        "import numpy \n",
        "import pandas\n",
        "import matplotlib\n",
        "import seaborn\n",
        "import sklearn\n",
        "import requests\n",
        "import urllib3\n",
        "import nltk\n",
        "import PIL\n",
        "import pytest\n",
        "import librosa"
      ],
      "metadata": {
        "id": "YHPHhLdsfBQW"
      },
      "execution_count": null,
      "outputs": []
    },
    {
      "cell_type": "markdown",
      "source": [
        "# import\n",
        "\n",
        "다양한 패키지 불러오고, 축약하여 나타내기\n",
        "\n",
        "1. import ~ as ~\n",
        "2. from ~ import ~"
      ],
      "metadata": {
        "id": "_CyW5oYKdMB7"
      }
    },
    {
      "cell_type": "code",
      "source": [
        " #numpy : 정규분포를 따르는 100개의 랜덤넘버가 만들어짐\n",
        "import numpy as np\n",
        "n = np.random.randn(100)     "
      ],
      "metadata": {
        "id": "EzzJFqEzdWul"
      },
      "execution_count": null,
      "outputs": []
    },
    {
      "cell_type": "code",
      "source": [
        "#matplotlib//pyplot//hist 세 단계의 하위 디렉토리를 불러오는 방법\n",
        "import matplotlib\n",
        "matplotlib.pyplot.hist(n)\n",
        "\n",
        "import matplotlib.pyplot\n",
        "matplotlib.pyplot.hist(n) \n",
        "\n",
        "import matplotlib.pyplot as plt\n",
        "plt.hist(n)\n",
        "\n",
        "from matplotlib import pyplot\n",
        "pyplot.hist(n)\n",
        "\n",
        "from matplotlib.pyplot import hist\n",
        "hist(n)"
      ],
      "metadata": {
        "id": "fJl9TjkDeLON"
      },
      "execution_count": null,
      "outputs": []
    }
  ]
}